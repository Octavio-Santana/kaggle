{
 "metadata": {
  "name": ""
 },
 "nbformat": 3,
 "nbformat_minor": 0,
 "worksheets": [
  {
   "cells": [
    {
     "cell_type": "markdown",
     "metadata": {},
     "source": [
      "#Data Description\n",
      "\n",
      "You are provided with a large number of Wikipedia comments which have been labeled by human raters for toxic behavior. The types of toxicity are:\n",
      "\n",
      "    toxic\n",
      "    severe_toxic\n",
      "    obscene\n",
      "    threat\n",
      "    insult\n",
      "    identity_hate\n",
      "\n",
      "You must create a model which predicts a probability of each type of toxicity for each comment.\n",
      "\n",
      "#File descriptions\n",
      "\n",
      "    train.csv - the training set, contains comments with their binary labels\n",
      "    test.csv - the test set, you must predict the toxicity probabilities for these comments. To deter hand labeling, the test set contains some comments which are not included in scoring.\n",
      "    sample_submission.csv - a sample submission file in the correct format\n",
      "    "
     ]
    },
    {
     "cell_type": "code",
     "collapsed": false,
     "input": [
      "import string\n",
      "import nltk\n",
      "import pandas as pd\n",
      "import numpy as np\n",
      "\n",
      "import warnings\n",
      "warnings.filterwarnings('ignore')"
     ],
     "language": "python",
     "metadata": {},
     "outputs": [],
     "prompt_number": 1
    },
    {
     "cell_type": "code",
     "collapsed": false,
     "input": [
      "df_train = pd.read_csv('train.csv')\n",
      "df_test = pd.read_csv('test.csv')\n",
      "submission = pd.read_csv('sample_submission.csv')"
     ],
     "language": "python",
     "metadata": {},
     "outputs": [],
     "prompt_number": 2
    },
    {
     "cell_type": "code",
     "collapsed": false,
     "input": [
      "print('DataFrame Train:')\n",
      "print(df_train.isnull().any())\n",
      "print('\\n')\n",
      "print('DataFrame Test:')\n",
      "print(df_test.isnull().any())"
     ],
     "language": "python",
     "metadata": {},
     "outputs": [
      {
       "output_type": "stream",
       "stream": "stdout",
       "text": [
        "DataFrame Train:\n",
        "id               False\n",
        "comment_text     False\n",
        "toxic            False\n",
        "severe_toxic     False\n",
        "obscene          False\n",
        "threat           False\n",
        "insult           False\n",
        "identity_hate    False\n",
        "dtype: bool"
       ]
      },
      {
       "output_type": "stream",
       "stream": "stdout",
       "text": [
        "\n",
        "\n",
        "\n",
        "DataFrame Test:\n",
        "id              False\n",
        "comment_text     True\n",
        "dtype: bool\n"
       ]
      }
     ],
     "prompt_number": 3
    },
    {
     "cell_type": "code",
     "collapsed": false,
     "input": [
      "df_test = df_test.fillna('unknown')"
     ],
     "language": "python",
     "metadata": {},
     "outputs": [],
     "prompt_number": 4
    },
    {
     "cell_type": "code",
     "collapsed": false,
     "input": [
      "col = np.array(df_train.columns)\n",
      "col = col[2:]\n",
      "print(col)"
     ],
     "language": "python",
     "metadata": {},
     "outputs": [
      {
       "output_type": "stream",
       "stream": "stdout",
       "text": [
        "['toxic' 'severe_toxic' 'obscene' 'threat' 'insult' 'identity_hate']\n"
       ]
      }
     ],
     "prompt_number": 5
    },
    {
     "cell_type": "code",
     "collapsed": false,
     "input": [
      "print('Dataframe Train:')\n",
      "for c in col:\n",
      "    print(\"The dataframe tem '{1}' of comments '{0}' of the total '{2}'.\".format(c, \n",
      "                                                                                 df_train[c].sum(), \n",
      "                                                                                 len(df_train)))"
     ],
     "language": "python",
     "metadata": {},
     "outputs": [
      {
       "output_type": "stream",
       "stream": "stdout",
       "text": [
        "Dataframe Train:\n",
        "The dataframe tem '9237' of comments 'toxic' of the total '95851'.\n",
        "The dataframe tem '965' of comments 'severe_toxic' of the total '95851'.\n",
        "The dataframe tem '5109' of comments 'obscene' of the total '95851'.\n",
        "The dataframe tem '305' of comments 'threat' of the total '95851'.\n",
        "The dataframe tem '4765' of comments 'insult' of the total '95851'.\n",
        "The dataframe tem '814' of comments 'identity_hate' of the total '95851'.\n"
       ]
      }
     ],
     "prompt_number": 6
    },
    {
     "cell_type": "code",
     "collapsed": false,
     "input": [
      "comment_text_all = pd.concat([df_train['comment_text'], df_test['comment_text']],axis=0)"
     ],
     "language": "python",
     "metadata": {},
     "outputs": [],
     "prompt_number": 7
    },
    {
     "cell_type": "code",
     "collapsed": false,
     "input": [
      "y = df_train[col]\n",
      "y.head(5)"
     ],
     "language": "python",
     "metadata": {},
     "outputs": [
      {
       "html": [
        "<div style=\"max-width:1500px;overflow:auto;\">\n",
        "<style scoped>\n",
        "    .dataframe tbody tr th:only-of-type {\n",
        "        vertical-align: middle;\n",
        "    }\n",
        "\n",
        "    .dataframe tbody tr th {\n",
        "        vertical-align: top;\n",
        "    }\n",
        "\n",
        "    .dataframe thead th {\n",
        "        text-align: right;\n",
        "    }\n",
        "</style>\n",
        "<table border=\"1\" class=\"dataframe\">\n",
        "  <thead>\n",
        "    <tr style=\"text-align: right;\">\n",
        "      <th></th>\n",
        "      <th>toxic</th>\n",
        "      <th>severe_toxic</th>\n",
        "      <th>obscene</th>\n",
        "      <th>threat</th>\n",
        "      <th>insult</th>\n",
        "      <th>identity_hate</th>\n",
        "    </tr>\n",
        "  </thead>\n",
        "  <tbody>\n",
        "    <tr>\n",
        "      <th>0</th>\n",
        "      <td>1</td>\n",
        "      <td>0</td>\n",
        "      <td>0</td>\n",
        "      <td>0</td>\n",
        "      <td>0</td>\n",
        "      <td>0</td>\n",
        "    </tr>\n",
        "    <tr>\n",
        "      <th>1</th>\n",
        "      <td>0</td>\n",
        "      <td>0</td>\n",
        "      <td>0</td>\n",
        "      <td>0</td>\n",
        "      <td>0</td>\n",
        "      <td>0</td>\n",
        "    </tr>\n",
        "    <tr>\n",
        "      <th>2</th>\n",
        "      <td>0</td>\n",
        "      <td>0</td>\n",
        "      <td>0</td>\n",
        "      <td>0</td>\n",
        "      <td>0</td>\n",
        "      <td>0</td>\n",
        "    </tr>\n",
        "    <tr>\n",
        "      <th>3</th>\n",
        "      <td>0</td>\n",
        "      <td>0</td>\n",
        "      <td>0</td>\n",
        "      <td>0</td>\n",
        "      <td>0</td>\n",
        "      <td>0</td>\n",
        "    </tr>\n",
        "    <tr>\n",
        "      <th>4</th>\n",
        "      <td>0</td>\n",
        "      <td>0</td>\n",
        "      <td>0</td>\n",
        "      <td>0</td>\n",
        "      <td>0</td>\n",
        "      <td>0</td>\n",
        "    </tr>\n",
        "  </tbody>\n",
        "</table>\n",
        "</div>"
       ],
       "metadata": {},
       "output_type": "pyout",
       "prompt_number": 8,
       "text": [
        "   toxic  severe_toxic  obscene  threat  insult  identity_hate\n",
        "0      1             0        0       0       0              0\n",
        "1      0             0        0       0       0              0\n",
        "2      0             0        0       0       0              0\n",
        "3      0             0        0       0       0              0\n",
        "4      0             0        0       0       0              0"
       ]
      }
     ],
     "prompt_number": 8
    },
    {
     "cell_type": "code",
     "collapsed": false,
     "input": [
      "nrow_train = df_train.shape[0]\n",
      "print(nrow_train)"
     ],
     "language": "python",
     "metadata": {},
     "outputs": [
      {
       "output_type": "stream",
       "stream": "stdout",
       "text": [
        "95851\n"
       ]
      }
     ],
     "prompt_number": 9
    },
    {
     "cell_type": "code",
     "collapsed": false,
     "input": [
      "from sklearn.feature_extraction.text import TfidfVectorizer\n",
      "vectorizer = TfidfVectorizer(min_df=3, max_df=0.9, max_features=50000, stop_words='english', \n",
      "                             strip_accents='unicode', analyzer='word')"
     ],
     "language": "python",
     "metadata": {},
     "outputs": [],
     "prompt_number": 10
    },
    {
     "cell_type": "code",
     "collapsed": false,
     "input": [
      "train_test_comment_text = vectorizer.fit_transform(comment_text_all)"
     ],
     "language": "python",
     "metadata": {},
     "outputs": [],
     "prompt_number": 11
    },
    {
     "cell_type": "code",
     "collapsed": false,
     "input": [
      "from sklearn.linear_model import LogisticRegression\n",
      "from sklearn.metrics import log_loss\n",
      "#from sklearn.model_selection import train_test_split"
     ],
     "language": "python",
     "metadata": {},
     "outputs": [],
     "prompt_number": 12
    },
    {
     "cell_type": "code",
     "collapsed": false,
     "input": [
      "predict = np.zeros((df_test.shape[0], len(col)))\n",
      "predict.shape"
     ],
     "language": "python",
     "metadata": {},
     "outputs": [
      {
       "metadata": {},
       "output_type": "pyout",
       "prompt_number": 13,
       "text": [
        "(226998, 6)"
       ]
      }
     ],
     "prompt_number": 13
    },
    {
     "cell_type": "code",
     "collapsed": false,
     "input": [
      "loss = []\n",
      "accuracy = []\n",
      "for num, index in enumerate(col):\n",
      "    #x_train, x_test, y_train, y_test = train_test_split(train_test_comment_text[:nrow_train], y[index])\n",
      "    print(\"Fit: {}\".format(index))\n",
      "    #model = LogisticRegression(C=5)\n",
      "    #model = LogisticRegression(C=5, multi_class='ovr')\n",
      "    model = LogisticRegression(C=5, solver='sag', multi_class='ovr')\n",
      "    #model.fit(x_train, y_train)\n",
      "    model.fit(train_test_comment_text[:nrow_train], y[index])\n",
      "    predict[:,num] = model.predict_proba(train_test_comment_text[nrow_train:])[:,1]    \n",
      "    #predict_01 = model.predict_proba(x_test)[:,1]    \n",
      "    predict_01 = model.predict_proba(train_test_comment_text[:nrow_train])[:,1]    \n",
      "    logloss = log_loss(y[index], predict_01)\n",
      "    print('log loss:', logloss)\n",
      "    #predict_02 = model.predict(x_test)\n",
      "    #acc = np.mean(predict_02 == y_test)\n",
      "    #print('accuracy:', acc)\n",
      "    loss.append(logloss)\n",
      "    #accuracy.append(acc)\n",
      "    print('\\n')\n",
      "print('mean column-wise log loss:', np.mean(loss))\n",
      "#print('mean column-wise accuracy:', np.mean(accuracy))"
     ],
     "language": "python",
     "metadata": {},
     "outputs": [
      {
       "output_type": "stream",
       "stream": "stdout",
       "text": [
        "Fit: toxic\n",
        "log loss:"
       ]
      },
      {
       "output_type": "stream",
       "stream": "stdout",
       "text": [
        " 0.0699190980806\n",
        "\n",
        "\n",
        "Fit: severe_toxic\n",
        "log loss:"
       ]
      },
      {
       "output_type": "stream",
       "stream": "stdout",
       "text": [
        " 0.0167799470928\n",
        "\n",
        "\n",
        "Fit: obscene\n",
        "log loss:"
       ]
      },
      {
       "output_type": "stream",
       "stream": "stdout",
       "text": [
        " 0.0366360549493\n",
        "\n",
        "\n",
        "Fit: threat\n",
        "log loss:"
       ]
      },
      {
       "output_type": "stream",
       "stream": "stdout",
       "text": [
        " 0.00568968293935\n",
        "\n",
        "\n",
        "Fit: insult\n",
        "log loss:"
       ]
      },
      {
       "output_type": "stream",
       "stream": "stdout",
       "text": [
        " 0.0496519392366\n",
        "\n",
        "\n",
        "Fit: identity_hate\n",
        "log loss:"
       ]
      },
      {
       "output_type": "stream",
       "stream": "stdout",
       "text": [
        " 0.013955628678\n",
        "\n",
        "\n",
        "mean column-wise log loss: 0.0321053918294\n"
       ]
      }
     ],
     "prompt_number": 14
    },
    {
     "cell_type": "code",
     "collapsed": false,
     "input": [
      "submid = pd.DataFrame({'id': submission[\"id\"]})\n",
      "submission = pd.concat([submid, pd.DataFrame(predict, columns = col)], axis=1)\n",
      "submission.to_csv('submission.csv', index=False)"
     ],
     "language": "python",
     "metadata": {},
     "outputs": [],
     "prompt_number": 15
    }
   ],
   "metadata": {}
  }
 ]
}